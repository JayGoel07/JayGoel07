{
  "nbformat": 4,
  "nbformat_minor": 0,
  "metadata": {
    "colab": {
      "provenance": [],
      "authorship_tag": "ABX9TyPQ9LuHvJLQnazdWXL7Rl/K",
      "include_colab_link": true
    },
    "kernelspec": {
      "name": "python3",
      "display_name": "Python 3"
    },
    "language_info": {
      "name": "python"
    }
  },
  "cells": [
    {
      "cell_type": "markdown",
      "metadata": {
        "id": "view-in-github",
        "colab_type": "text"
      },
      "source": [
        "<a href=\"https://colab.research.google.com/github/JayGoel07/JayGoel07/blob/main/Rock_vs_Mineprediction.ipynb\" target=\"_parent\"><img src=\"https://colab.research.google.com/assets/colab-badge.svg\" alt=\"Open In Colab\"/></a>"
      ]
    },
    {
      "cell_type": "markdown",
      "source": [
        "Importing the dependencies\n",
        "1. numpy for array\n",
        "2. pandas for loading the data\n",
        "3. splitting training and testing data\n",
        "4. importing logistic regression model"
      ],
      "metadata": {
        "id": "QUhKZ4TG7Mjp"
      }
    },
    {
      "cell_type": "code",
      "source": [
        "import numpy as np\n",
        "import pandas as pd\n",
        "from sklearn.model_selection import train_test_split\n",
        "from sklearn.linear_model import LogisticRegression\n",
        "from sklearn.metrics import accuracy_score"
      ],
      "metadata": {
        "id": "yBFVws517Ot0"
      },
      "execution_count": 1,
      "outputs": []
    },
    {
      "cell_type": "markdown",
      "source": [
        "Data collection and Data Processing (some new fns)"
      ],
      "metadata": {
        "id": "dR2BNrFC-FgF"
      }
    },
    {
      "cell_type": "code",
      "source": [
        "#loading the dataset using variable 'sonar_data'\n",
        "sonar_data = pd.read_csv('/content/sonardata.csv', header=None)"
      ],
      "metadata": {
        "id": "JMzu1dmX-LwQ"
      },
      "execution_count": 2,
      "outputs": []
    },
    {
      "cell_type": "code",
      "source": [
        "#displays the first five dataset values\n",
        "sonar_data.head()"
      ],
      "metadata": {
        "id": "k8ZctrVb-0gF"
      },
      "execution_count": null,
      "outputs": []
    },
    {
      "cell_type": "code",
      "source": [
        "#number of rows and columns in dataset\n",
        "sonar_data.shape"
      ],
      "metadata": {
        "id": "HR7MPElb_NXu"
      },
      "execution_count": null,
      "outputs": []
    },
    {
      "cell_type": "code",
      "source": [
        "#descibes all the statistical data\n",
        "sonar_data.describe()"
      ],
      "metadata": {
        "id": "JjXqU9xsBiD1"
      },
      "execution_count": null,
      "outputs": []
    },
    {
      "cell_type": "code",
      "source": [
        "#now count how many mines and how many rocks are there\n",
        "# 60 is column index\n",
        "sonar_data[60].value_counts()"
      ],
      "metadata": {
        "id": "pudFIHRyEdmL"
      },
      "execution_count": null,
      "outputs": []
    },
    {
      "cell_type": "code",
      "source": [
        "#to group rock and mines seperately for 60 rows 61st is M/R\n",
        "sonar_data.groupby(60).mean()"
      ],
      "metadata": {
        "id": "kQt9wwpnE_qQ"
      },
      "execution_count": null,
      "outputs": []
    },
    {
      "cell_type": "code",
      "source": [
        "#seperate data and the output (M/R)\n",
        "# dropping 60th column in X\n",
        "X= sonar_data.drop(columns=60, axis=1)\n",
        "Y= sonar_data[60]\n",
        "print (X)\n",
        "print (Y)"
      ],
      "metadata": {
        "id": "XylaJSPBGhtj"
      },
      "execution_count": null,
      "outputs": []
    },
    {
      "cell_type": "markdown",
      "source": [
        "Training and Test Data"
      ],
      "metadata": {
        "id": "HW9X8Y2pHZrG"
      }
    },
    {
      "cell_type": "code",
      "source": [
        "#some new variables for data to handle\n",
        "# test_size = 10% = 0.1 of total data baaki sab train data\n",
        "# data split on rock and mine last column!\n",
        "# radnom_state not that useful\n",
        "# X.shape is data without split\n",
        "X_train, X_test, Y_train, Y_test= train_test_split(X,Y, test_size=0.1, stratify= Y,random_state=1 )\n",
        "print(X.shape,X_train.shape, X_test.shape )\n",
        "print(X_train, Y_train)"
      ],
      "metadata": {
        "id": "d1hizm2QHWrZ"
      },
      "execution_count": null,
      "outputs": []
    },
    {
      "cell_type": "markdown",
      "source": [
        "MODEL training -> logistic regression"
      ],
      "metadata": {
        "id": "Ml2vsvj1KWxm"
      }
    },
    {
      "cell_type": "code",
      "source": [
        "# function ki value ek variable mai store krdi\n",
        "model=LogisticRegression()\n",
        "#training the logistic regression with traing data\n",
        "model.fit(X_train, Y_train)"
      ],
      "metadata": {
        "id": "0et_kwr0KeOb"
      },
      "execution_count": null,
      "outputs": []
    },
    {
      "cell_type": "markdown",
      "source": [
        "MODEL evaluation - check accuracy on train and test data"
      ],
      "metadata": {
        "id": "Bb1qfC-WMWE_"
      }
    },
    {
      "cell_type": "code",
      "source": [
        "#accuracy on training data\n",
        "X_train_prediction = model.predict(X_train)\n",
        "training_data_accuracy=accuracy_score(X_train_prediction, Y_train)\n",
        "# prediction of our trainign data accuracy wiht actual answer of trainnign data\n",
        "print(\"acuuracy on training data is: \", training_data_accuracy)"
      ],
      "metadata": {
        "id": "hMR0yxUpMbr_"
      },
      "execution_count": null,
      "outputs": []
    },
    {
      "cell_type": "code",
      "source": [
        "#accuracy on test data\n",
        "X_test_prediction = model.predict(X_test)\n",
        "test_data_accuracy=accuracy_score(X_test_prediction, Y_test)\n",
        "print(\"acuuracy on test data is: \", test_data_accuracy)"
      ],
      "metadata": {
        "colab": {
          "base_uri": "https://localhost:8080/"
        },
        "outputId": "791ed9c0-90cd-4b42-a886-c5d91a35f180",
        "id": "KGaLi7KuO5ff"
      },
      "execution_count": 26,
      "outputs": [
        {
          "output_type": "stream",
          "name": "stdout",
          "text": [
            "acuuracy on test data is:  0.7619047619047619\n"
          ]
        }
      ]
    },
    {
      "cell_type": "markdown",
      "source": [
        "Making a Predicitive system now"
      ],
      "metadata": {
        "id": "7hHli4r6Qgsx"
      }
    },
    {
      "cell_type": "code",
      "source": [
        "input_data= (0.0200,0.0371,0.0428,0.0207,0.0954,0.0986,0.1539,0.1601,0.3109,0.2111,0.1609,0.1582,0.2238,0.0645,0.0660,0.2273,0.3100,0.2999,0.5078,0.4797,0.5783,0.5071,0.4328,0.5550,0.6711,0.6415,0.7104,0.8080,0.6791,0.3857,0.1307,0.2604,0.5121,0.7547,0.8537,0.8507,0.6692,0.6097,0.4943,0.2744,0.0510,0.2834,0.2825,0.4256,0.2641,0.1386,0.1051,0.1343,0.0383,0.0324,0.0232,0.0027,0.0065,0.0159,0.0072,0.0167,0.0180,0.0084,0.0090,0.0032)\n",
        "#change input data to numpy array\n",
        "input_data_as_numpy_array = np.asarray(input_data)\n",
        "#reshaping it for one instance\n",
        "input_data_reshaped=input_data_as_numpy_array.reshape(1,-1)\n",
        "prediction = model.predict(input_data_reshaped)\n",
        "if (prediction[0]=='R'):\n",
        "  print(\"object is rock\")\n",
        "else :\n",
        "  print(\"its mine\")"
      ],
      "metadata": {
        "colab": {
          "base_uri": "https://localhost:8080/"
        },
        "id": "Y4irFE7jQnub",
        "outputId": "75911b5f-5480-4c82-9bf8-34f9ef39d6fa"
      },
      "execution_count": 29,
      "outputs": [
        {
          "output_type": "stream",
          "name": "stdout",
          "text": [
            "object is rock\n"
          ]
        }
      ]
    }
  ]
}