{
  "cells": [
    {
      "cell_type": "markdown",
      "metadata": {
        "id": "view-in-github",
        "colab_type": "text"
      },
      "source": [
        "<a href=\"https://colab.research.google.com/github/JayGoel07/JayGoel07/blob/main/faces.ipynb\" target=\"_parent\"><img src=\"https://colab.research.google.com/assets/colab-badge.svg\" alt=\"Open In Colab\"/></a>"
      ]
    },
    {
      "cell_type": "markdown",
      "metadata": {
        "id": "g04OdKntfzG5"
      },
      "source": [
        "# Image recognition with Python, OpenCV, OpenAI CLIP model and PostgreSQL `pgvector`\n",
        "\n",
        "This repository contains the working code for the example in the [blog post](https://aiven.io/developer/find-faces-with-pgvector)\n",
        "\n",
        "The below is the overall flow:\n",
        "\n",
        "![Overall flow](https://github.com/Aiven-Labs/pgvector-image-recognition/blob/main/entire_flow.jpg?raw=1)"
      ]
    },
    {
      "cell_type": "markdown",
      "metadata": {
        "id": "Wc9dGsKbfzG6"
      },
      "source": [
        "## Step 0: Install requirements"
      ]
    },
    {
      "cell_type": "code",
      "execution_count": 1,
      "metadata": {
        "id": "JDCW1PT4fzG7",
        "colab": {
          "base_uri": "https://localhost:8080/"
        },
        "outputId": "05f1a672-49c3-42d4-afe5-402a70e802b1"
      },
      "outputs": [
        {
          "output_type": "stream",
          "name": "stdout",
          "text": [
            "Requirement already satisfied: opencv-python in /usr/local/lib/python3.10/dist-packages (4.8.0.76)\n",
            "Collecting imgbeddings\n",
            "  Downloading imgbeddings-0.1.0.tar.gz (8.7 kB)\n",
            "  Preparing metadata (setup.py) ... \u001b[?25l\u001b[?25hdone\n",
            "Collecting psycopg2-binary\n",
            "  Downloading psycopg2_binary-2.9.9-cp310-cp310-manylinux_2_17_x86_64.manylinux2014_x86_64.whl (3.0 MB)\n",
            "\u001b[2K     \u001b[90m━━━━━━━━━━━━━━━━━━━━━━━━━━━━━━━━━━━━━━━━\u001b[0m \u001b[32m3.0/3.0 MB\u001b[0m \u001b[31m6.2 MB/s\u001b[0m eta \u001b[36m0:00:00\u001b[0m\n",
            "\u001b[?25hRequirement already satisfied: numpy>=1.21.2 in /usr/local/lib/python3.10/dist-packages (from opencv-python) (1.25.2)\n",
            "Requirement already satisfied: transformers>=4.17.0 in /usr/local/lib/python3.10/dist-packages (from imgbeddings) (4.41.2)\n",
            "Collecting onnxruntime>=1.10.0 (from imgbeddings)\n",
            "  Downloading onnxruntime-1.18.0-cp310-cp310-manylinux_2_27_x86_64.manylinux_2_28_x86_64.whl (6.8 MB)\n",
            "\u001b[2K     \u001b[90m━━━━━━━━━━━━━━━━━━━━━━━━━━━━━━━━━━━━━━━━\u001b[0m \u001b[32m6.8/6.8 MB\u001b[0m \u001b[31m15.1 MB/s\u001b[0m eta \u001b[36m0:00:00\u001b[0m\n",
            "\u001b[?25hRequirement already satisfied: Pillow in /usr/local/lib/python3.10/dist-packages (from imgbeddings) (9.4.0)\n",
            "Requirement already satisfied: tqdm in /usr/local/lib/python3.10/dist-packages (from imgbeddings) (4.66.4)\n",
            "Requirement already satisfied: scikit-learn in /usr/local/lib/python3.10/dist-packages (from imgbeddings) (1.2.2)\n",
            "Collecting coloredlogs (from onnxruntime>=1.10.0->imgbeddings)\n",
            "  Downloading coloredlogs-15.0.1-py2.py3-none-any.whl (46 kB)\n",
            "\u001b[2K     \u001b[90m━━━━━━━━━━━━━━━━━━━━━━━━━━━━━━━━━━━━━━━━\u001b[0m \u001b[32m46.0/46.0 kB\u001b[0m \u001b[31m3.5 MB/s\u001b[0m eta \u001b[36m0:00:00\u001b[0m\n",
            "\u001b[?25hRequirement already satisfied: flatbuffers in /usr/local/lib/python3.10/dist-packages (from onnxruntime>=1.10.0->imgbeddings) (24.3.25)\n",
            "Requirement already satisfied: packaging in /usr/local/lib/python3.10/dist-packages (from onnxruntime>=1.10.0->imgbeddings) (24.1)\n",
            "Requirement already satisfied: protobuf in /usr/local/lib/python3.10/dist-packages (from onnxruntime>=1.10.0->imgbeddings) (3.20.3)\n",
            "Requirement already satisfied: sympy in /usr/local/lib/python3.10/dist-packages (from onnxruntime>=1.10.0->imgbeddings) (1.12.1)\n",
            "Requirement already satisfied: filelock in /usr/local/lib/python3.10/dist-packages (from transformers>=4.17.0->imgbeddings) (3.14.0)\n",
            "Requirement already satisfied: huggingface-hub<1.0,>=0.23.0 in /usr/local/lib/python3.10/dist-packages (from transformers>=4.17.0->imgbeddings) (0.23.3)\n",
            "Requirement already satisfied: pyyaml>=5.1 in /usr/local/lib/python3.10/dist-packages (from transformers>=4.17.0->imgbeddings) (6.0.1)\n",
            "Requirement already satisfied: regex!=2019.12.17 in /usr/local/lib/python3.10/dist-packages (from transformers>=4.17.0->imgbeddings) (2024.5.15)\n",
            "Requirement already satisfied: requests in /usr/local/lib/python3.10/dist-packages (from transformers>=4.17.0->imgbeddings) (2.31.0)\n",
            "Requirement already satisfied: tokenizers<0.20,>=0.19 in /usr/local/lib/python3.10/dist-packages (from transformers>=4.17.0->imgbeddings) (0.19.1)\n",
            "Requirement already satisfied: safetensors>=0.4.1 in /usr/local/lib/python3.10/dist-packages (from transformers>=4.17.0->imgbeddings) (0.4.3)\n",
            "Requirement already satisfied: scipy>=1.3.2 in /usr/local/lib/python3.10/dist-packages (from scikit-learn->imgbeddings) (1.11.4)\n",
            "Requirement already satisfied: joblib>=1.1.1 in /usr/local/lib/python3.10/dist-packages (from scikit-learn->imgbeddings) (1.4.2)\n",
            "Requirement already satisfied: threadpoolctl>=2.0.0 in /usr/local/lib/python3.10/dist-packages (from scikit-learn->imgbeddings) (3.5.0)\n",
            "Requirement already satisfied: fsspec>=2023.5.0 in /usr/local/lib/python3.10/dist-packages (from huggingface-hub<1.0,>=0.23.0->transformers>=4.17.0->imgbeddings) (2023.6.0)\n",
            "Requirement already satisfied: typing-extensions>=3.7.4.3 in /usr/local/lib/python3.10/dist-packages (from huggingface-hub<1.0,>=0.23.0->transformers>=4.17.0->imgbeddings) (4.12.2)\n",
            "Collecting humanfriendly>=9.1 (from coloredlogs->onnxruntime>=1.10.0->imgbeddings)\n",
            "  Downloading humanfriendly-10.0-py2.py3-none-any.whl (86 kB)\n",
            "\u001b[2K     \u001b[90m━━━━━━━━━━━━━━━━━━━━━━━━━━━━━━━━━━━━━━━━\u001b[0m \u001b[32m86.8/86.8 kB\u001b[0m \u001b[31m12.7 MB/s\u001b[0m eta \u001b[36m0:00:00\u001b[0m\n",
            "\u001b[?25hRequirement already satisfied: charset-normalizer<4,>=2 in /usr/local/lib/python3.10/dist-packages (from requests->transformers>=4.17.0->imgbeddings) (3.3.2)\n",
            "Requirement already satisfied: idna<4,>=2.5 in /usr/local/lib/python3.10/dist-packages (from requests->transformers>=4.17.0->imgbeddings) (3.7)\n",
            "Requirement already satisfied: urllib3<3,>=1.21.1 in /usr/local/lib/python3.10/dist-packages (from requests->transformers>=4.17.0->imgbeddings) (2.0.7)\n",
            "Requirement already satisfied: certifi>=2017.4.17 in /usr/local/lib/python3.10/dist-packages (from requests->transformers>=4.17.0->imgbeddings) (2024.6.2)\n",
            "Requirement already satisfied: mpmath<1.4.0,>=1.1.0 in /usr/local/lib/python3.10/dist-packages (from sympy->onnxruntime>=1.10.0->imgbeddings) (1.3.0)\n",
            "Building wheels for collected packages: imgbeddings\n",
            "  Building wheel for imgbeddings (setup.py) ... \u001b[?25l\u001b[?25hdone\n",
            "  Created wheel for imgbeddings: filename=imgbeddings-0.1.0-py3-none-any.whl size=9322 sha256=5a3f417bf4e9d4ffbe1cb0b5df4c9b6d8664dac17cd600320f22f883be831496\n",
            "  Stored in directory: /root/.cache/pip/wheels/4e/c9/9c/5f94fd783ce863540e5999f4bc2afd1501ddaea942ee6413fc\n",
            "Successfully built imgbeddings\n",
            "Installing collected packages: psycopg2-binary, humanfriendly, coloredlogs, onnxruntime, imgbeddings\n",
            "Successfully installed coloredlogs-15.0.1 humanfriendly-10.0 imgbeddings-0.1.0 onnxruntime-1.18.0 psycopg2-binary-2.9.9\n"
          ]
        }
      ],
      "source": [
        "!pip install opencv-python imgbeddings psycopg2-binary"
      ]
    },
    {
      "cell_type": "markdown",
      "metadata": {
        "id": "NCUUUfvufzG7"
      },
      "source": [
        "## Step 1: Face recognition\n",
        "\n",
        "Detect the faces from the [test-image](test-image.png) picture and store them under the `stored-faces` folder"
      ]
    },
    {
      "cell_type": "code",
      "execution_count": 3,
      "metadata": {
        "id": "PZtR0-5BfzG7"
      },
      "outputs": [],
      "source": [
        "# importing the cv2 library\n",
        "import cv2\n",
        "\n",
        "# loading the haar case algorithm file into alg variable\n",
        "alg = \"/content/haarcascade_frontalface_default.xml\"\n",
        "# passing the algorithm to OpenCV\n",
        "haar_cascade = cv2.CascadeClassifier(alg)\n",
        "# loading the image path into file_name variable - replace <INSERT YOUR IMAGE NAME HERE> with the path to your image\n",
        "file_name = \"/content/IMG.jpeg\"\n",
        "# reading the image\n",
        "img = cv2.imread(file_name, 0)\n",
        "# creating a black and white version of the image\n",
        "gray_img = cv2.cvtColor(img, cv2.COLOR_RGB2BGR)\n",
        "# detecting the faces\n",
        "faces = haar_cascade.detectMultiScale(\n",
        "    gray_img, scaleFactor=1.05, minNeighbors=5, minSize=(100, 100)\n",
        ")\n",
        "\n",
        "i = 0\n",
        "# for each face detected\n",
        "for x, y, w, h in faces:\n",
        "    # crop the image to select only the face\n",
        "    cropped_image = img[y : y + h, x : x + w]\n",
        "    # loading the target image path into target_file_name variable  - replace <INSERT YOUR TARGET IMAGE NAME HERE> with the path to your target image\n",
        "    target_file_name = 'stored-faces/' + str(i) + '.jpg'\n",
        "    cv2.imwrite(\n",
        "        target_file_name,\n",
        "        cropped_image,\n",
        "    )\n",
        "    i = i + 1;"
      ]
    },
    {
      "cell_type": "markdown",
      "metadata": {
        "id": "tL_W_i6MfzG7"
      },
      "source": [
        "## Step 2: Embeddings Calculation\n",
        "\n",
        "Calculate embeddings from the faces and pushing to PostgreSQL, you'll need to change the `<SERVICE_URI>` parameter with the PostgreSQL Service URI"
      ]
    },
    {
      "cell_type": "code",
      "execution_count": null,
      "metadata": {
        "id": "X-gDZTU5fzG8"
      },
      "outputs": [],
      "source": [
        "# importing the required libraries\n",
        "import numpy as np\n",
        "from imgbeddings import imgbeddings\n",
        "from PIL import Image\n",
        "import psycopg2\n",
        "import os\n",
        "\n",
        "# connecting to the database - replace the SERVICE URI with the service URI\n",
        "conn = psycopg2.connect(\"<SERVICE_URI>\")\n",
        "\n",
        "for filename in os.listdir(\"stored-faces\"):\n",
        "    # opening the image\n",
        "    img = Image.open(\"stored-faces/\" + filename)\n",
        "    # loading the `imgbeddings`\n",
        "    ibed = imgbeddings()\n",
        "    # calculating the embeddings\n",
        "    embedding = ibed.to_embeddings(img)\n",
        "    cur = conn.cursor()\n",
        "    cur.execute(\"INSERT INTO pictures values (%s,%s)\", (filename, embedding[0].tolist()))\n",
        "    print(filename)\n",
        "conn.commit()"
      ]
    },
    {
      "cell_type": "markdown",
      "metadata": {
        "id": "GGtjkExFfzG8"
      },
      "source": [
        "## Step 3: Calculate embeddings on a new picture\n",
        "\n",
        "Find the face and calculate the embeddings on the picture `solo-image.png` used for research"
      ]
    },
    {
      "cell_type": "code",
      "execution_count": null,
      "metadata": {
        "id": "-7Lu_sRefzG8"
      },
      "outputs": [],
      "source": [
        "# loading the face image path into file_name variable\n",
        "file_name = \"solo-image.png\"  # replace <INSERT YOUR FACE FILE NAME> with the path to your image\n",
        "# opening the image\n",
        "img = Image.open(file_name)\n",
        "# loading the `imgbeddings`\n",
        "ibed = imgbeddings()\n",
        "# calculating the embeddings\n",
        "embedding = ibed.to_embeddings(img)"
      ]
    },
    {
      "cell_type": "markdown",
      "metadata": {
        "id": "IRNuACXefzG8"
      },
      "source": [
        "## Step 3: Find similar images by querying the Postgresql database using pgvector"
      ]
    },
    {
      "cell_type": "code",
      "execution_count": null,
      "metadata": {
        "id": "QGS1bkPofzG8"
      },
      "outputs": [],
      "source": [
        "from IPython.display import Image, display\n",
        "\n",
        "cur = conn.cursor()\n",
        "string_representation = \"[\"+ \",\".join(str(x) for x in embedding[0].tolist()) +\"]\"\n",
        "cur.execute(\"SELECT * FROM pictures ORDER BY embedding <-> %s LIMIT 1;\", (string_representation,))\n",
        "rows = cur.fetchall()\n",
        "for row in rows:\n",
        "    display(Image(filename=\"stored-faces/\"+row[0]))\n",
        "cur.close()"
      ]
    }
  ],
  "metadata": {
    "kernelspec": {
      "display_name": "Python 3",
      "language": "python",
      "name": "python3"
    },
    "language_info": {
      "codemirror_mode": {
        "name": "ipython",
        "version": 3
      },
      "file_extension": ".py",
      "mimetype": "text/x-python",
      "name": "python",
      "nbconvert_exporter": "python",
      "pygments_lexer": "ipython3",
      "version": "3.10.8"
    },
    "orig_nbformat": 4,
    "colab": {
      "provenance": [],
      "include_colab_link": true
    }
  },
  "nbformat": 4,
  "nbformat_minor": 0
}