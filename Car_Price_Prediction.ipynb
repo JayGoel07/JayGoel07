{
  "nbformat": 4,
  "nbformat_minor": 0,
  "metadata": {
    "colab": {
      "provenance": [],
      "authorship_tag": "ABX9TyNAwiQ8fme3SArmy8uaJDlr",
      "include_colab_link": true
    },
    "kernelspec": {
      "name": "python3",
      "display_name": "Python 3"
    },
    "language_info": {
      "name": "python"
    }
  },
  "cells": [
    {
      "cell_type": "markdown",
      "metadata": {
        "id": "view-in-github",
        "colab_type": "text"
      },
      "source": [
        "<a href=\"https://colab.research.google.com/github/JayGoel07/JayGoel07/blob/main/Car_Price_Prediction.ipynb\" target=\"_parent\"><img src=\"https://colab.research.google.com/assets/colab-badge.svg\" alt=\"Open In Colab\"/></a>"
      ]
    },
    {
      "cell_type": "markdown",
      "source": [
        "Importing dependencies\n",
        "1. pandas for dataframe (structured table form)\n",
        "2. plt to plot graphs\n",
        "3. train test split fn\n",
        "4. linear reg model\n",
        "5. lasso reg model\n",
        "6. metrics to upload some data"
      ],
      "metadata": {
        "id": "aOOfyVTzguI-"
      }
    },
    {
      "cell_type": "code",
      "execution_count": 33,
      "metadata": {
        "id": "bLQGPb4ugs2_"
      },
      "outputs": [],
      "source": [
        "import pandas as pd\n",
        "import matplotlib.pyplot as plt\n",
        "import seaborn as sns\n",
        "from sklearn.model_selection import train_test_split\n",
        "from sklearn.linear_model import LinearRegression\n",
        "from sklearn.linear_model import Lasso\n",
        "from sklearn import metrics\n"
      ]
    },
    {
      "cell_type": "markdown",
      "source": [
        "Data Collection and Processing"
      ],
      "metadata": {
        "id": "Fn-Q2_JQin1e"
      }
    },
    {
      "cell_type": "code",
      "source": [
        "car_dataset= pd.read_csv('/content/car data.csv')\n",
        "#inspect first five rows\n",
        "car_dataset.head()"
      ],
      "metadata": {
        "id": "7sY2TITXiqhy"
      },
      "execution_count": null,
      "outputs": []
    },
    {
      "cell_type": "code",
      "source": [
        "#check no of rows and columns\n",
        "car_dataset.shape"
      ],
      "metadata": {
        "colab": {
          "base_uri": "https://localhost:8080/"
        },
        "id": "5HSWVZ96jHjj",
        "outputId": "793eefad-c24e-4a8a-e8b4-49a1caf95d3d"
      },
      "execution_count": 64,
      "outputs": [
        {
          "output_type": "execute_result",
          "data": {
            "text/plain": [
              "(301, 9)"
            ]
          },
          "metadata": {},
          "execution_count": 64
        }
      ]
    },
    {
      "cell_type": "code",
      "source": [
        "#getting some info about dataset\n",
        "car_dataset.info()"
      ],
      "metadata": {
        "id": "MjM7kb6ujK8b"
      },
      "execution_count": null,
      "outputs": []
    },
    {
      "cell_type": "code",
      "source": [
        "#checking the distribution of categorical data : jaise how much petrol cars how much diesel\n",
        "print(car_dataset.Fuel_Type.value_counts())\n",
        "print(car_dataset.Seller_Type.value_counts())\n",
        "print(car_dataset.Transmission.value_counts())"
      ],
      "metadata": {
        "id": "KA9Kn3QjjvPH"
      },
      "execution_count": null,
      "outputs": []
    },
    {
      "cell_type": "markdown",
      "source": [
        "The data is in text, need to change it in binary - Encoding the categorical data"
      ],
      "metadata": {
        "id": "cU5D-4E-lGV5"
      }
    },
    {
      "cell_type": "code",
      "source": [
        "# encoding \"Fuel_Type\" Column\n",
        "car_dataset.replace({'Fuel_Type':{'Petrol':0,'Diesel':1,'CNG':2}},inplace=True)\n",
        "\n",
        "# encoding \"Seller_Type\" Column\n",
        "car_dataset.replace({'Seller_Type':{'Dealer':0,'Individual':1}},inplace=True)\n",
        "\n",
        "# encoding \"Transmission\" Column\n",
        "car_dataset.replace({'Transmission':{'Manual':0,'Automatic':1}},inplace=True)\n",
        "\n",
        "car_dataset.head()"
      ],
      "metadata": {
        "id": "30Dx5e0UlQeB"
      },
      "execution_count": null,
      "outputs": []
    },
    {
      "cell_type": "markdown",
      "source": [
        "Train and test data split"
      ],
      "metadata": {
        "id": "T1QinbWOnwtd"
      }
    },
    {
      "cell_type": "code",
      "source": [
        "# car name isnt useful in prediction and selling price is to be targeted so drop these in training data\n",
        "# dropping row axis=0, dropping column axis =1;\n",
        "X = car_dataset.drop(['Car_Name','Selling_Price'],axis=1)\n",
        "Y = car_dataset['Selling_Price']\n",
        "print (X)\n",
        "print (Y)"
      ],
      "metadata": {
        "id": "UK34bIY0nzhh"
      },
      "execution_count": null,
      "outputs": []
    },
    {
      "cell_type": "code",
      "source": [
        "X_train, X_test, Y_train, Y_test = train_test_split(X,Y, test_size=0.1, random_state=0)"
      ],
      "metadata": {
        "id": "41YVcEDeqI-f"
      },
      "execution_count": 77,
      "outputs": []
    },
    {
      "cell_type": "markdown",
      "source": [
        "MOdel training - first linear"
      ],
      "metadata": {
        "id": "ueEtQgYwqjfr"
      }
    },
    {
      "cell_type": "code",
      "source": [
        "print(X_train)"
      ],
      "metadata": {
        "id": "Rxe0Zowyww5w"
      },
      "execution_count": null,
      "outputs": []
    },
    {
      "cell_type": "code",
      "source": [
        "lin_reg_model = LinearRegression()\n",
        "#fit fn is used to train our model\n",
        "lin_reg_model.fit(X_train, Y_train)\n",
        "#predicted fron X_train\n",
        "training_data_prediction= lin_reg_model.predict(X_train)\n",
        "#R square error - SSR\n",
        "error_score = metrics.r2_score(Y_train, training_data_prediction)\n",
        "print(\"R squared error is:\", error_score)"
      ],
      "metadata": {
        "id": "GT6ppTD6qm6k"
      },
      "execution_count": null,
      "outputs": []
    },
    {
      "cell_type": "markdown",
      "source": [
        "Visualize the actual and predicted prices using graph\n"
      ],
      "metadata": {
        "id": "HIaIPkil2Qf4"
      }
    },
    {
      "cell_type": "code",
      "source": [
        "plt.scatter (Y_train, training_data_prediction)\n",
        "plt.xlabel(\"Actual Prices\")\n",
        "plt.ylabel(\"Predicted prices\")\n",
        "plt.title(\"Actual vs Predicted prices\")\n",
        "plt.show()"
      ],
      "metadata": {
        "id": "rdcPzIBH2Ukz"
      },
      "execution_count": null,
      "outputs": []
    },
    {
      "cell_type": "markdown",
      "source": [
        "TEST DATA PREDICTION"
      ],
      "metadata": {
        "id": "almspWGN28MO"
      }
    },
    {
      "cell_type": "code",
      "source": [
        "test_data_prediction= lin_reg_model.predict(X_test)\n",
        "error_score_new = metrics.r2_score(Y_test, test_data_prediction)\n",
        "print(\"R squared error is:\", error_score_new)"
      ],
      "metadata": {
        "colab": {
          "base_uri": "https://localhost:8080/"
        },
        "id": "59wJewRq249g",
        "outputId": "5a4b1b28-a2c0-4489-d369-252a23f29c06"
      },
      "execution_count": 87,
      "outputs": [
        {
          "output_type": "stream",
          "name": "stdout",
          "text": [
            "R squared error is: 0.8735518306725647\n"
          ]
        }
      ]
    },
    {
      "cell_type": "code",
      "source": [
        "plt.scatter (Y_test, test_data_prediction)\n",
        "plt.xlabel(\"Actual Prices\")\n",
        "plt.ylabel(\"Predicted prices\")\n",
        "plt.title(\"Actual vs Predicted prices\")\n",
        "plt.show()"
      ],
      "metadata": {
        "id": "10-NxrGb3W0e"
      },
      "execution_count": null,
      "outputs": []
    },
    {
      "cell_type": "markdown",
      "source": [
        "********************** LASSO REGRESSION ******************\n"
      ],
      "metadata": {
        "id": "a-zhqyIT3ei9"
      }
    },
    {
      "cell_type": "code",
      "source": [
        "lasso_reg= Lasso()\n",
        "lasso_reg.fit(X_train, Y_train)\n",
        "training_data_prediction= lasso_reg.predict(X_train)\n",
        "error_score = metrics.r2_score(Y_train, training_data_prediction)\n",
        "print(\"R squared error is:\", error_score)"
      ],
      "metadata": {
        "colab": {
          "base_uri": "https://localhost:8080/"
        },
        "id": "ufN8X_sJ3hiO",
        "outputId": "1512360a-d0c8-4ebd-c50b-69a8dd0c72ef"
      },
      "execution_count": 90,
      "outputs": [
        {
          "output_type": "stream",
          "name": "stdout",
          "text": [
            "R squared error is: 0.8433838202800137\n"
          ]
        }
      ]
    },
    {
      "cell_type": "code",
      "source": [
        "plt.scatter (Y_train, training_data_prediction)\n",
        "plt.xlabel(\"Actual Prices\")\n",
        "plt.ylabel(\"Predicted prices\")\n",
        "plt.title(\"Actual vs Predicted prices\")\n",
        "plt.show()"
      ],
      "metadata": {
        "id": "woqjvgyC3_Bb"
      },
      "execution_count": null,
      "outputs": []
    },
    {
      "cell_type": "markdown",
      "source": [
        "LASSO REGRESSION HAS LESS R SQUARE VALUE THAN LINEAR REGRESSION, HENCE LASSO FITS WELL HERE."
      ],
      "metadata": {
        "id": "Fja_MmZs4Eqe"
      }
    }
  ]
}